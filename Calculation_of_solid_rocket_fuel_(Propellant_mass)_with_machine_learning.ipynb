{
  "nbformat": 4,
  "nbformat_minor": 0,
  "metadata": {
    "colab": {
      "provenance": []
    },
    "kernelspec": {
      "name": "python3",
      "display_name": "Python 3"
    },
    "language_info": {
      "name": "python"
    }
  },
  "cells": [
    {
      "cell_type": "markdown",
      "source": [
        "#Project Name: Calculations of solid rocket fuel with machine learning\n",
        "\n",
        "Contributor: Rajeev singh sisodiya\n",
        "\n",
        "Project details:\n",
        "\n",
        "Solid rocket fuel calculation involves several considerations, including the specific characteristics of the rocket fuel, combustion properties, and desired performance. This python project notebook defines a SolidRocket class with methods to calculate the propellant mass based on the characteristics of the grain. You can Adjust the parameters in the main function according to your specific needs."
      ],
      "metadata": {
        "id": "-eW5p661rJUH"
      }
    },
    {
      "cell_type": "markdown",
      "source": [
        "# Propellant mass"
      ],
      "metadata": {
        "id": "i1Xylzfnu98_"
      }
    },
    {
      "cell_type": "code",
      "source": [
        "class SolidRocket:\n",
        "    def __init__(self, grain_density, grain_length, grain_outer_radius, grain_inner_radius, burnout_time):\n",
        "        self.grain_density = grain_density  # grain density in kg/m^3\n",
        "        self.grain_length = grain_length  # grain length in meters\n",
        "        self.grain_outer_radius = grain_outer_radius  # outer radius of the grain in meters\n",
        "        self.grain_inner_radius = grain_inner_radius  # inner radius of the grain in meters\n",
        "        self.burnout_time = burnout_time  # burnout time in seconds\n",
        "\n",
        "    def calculate_propellant_mass(self):\n",
        "        # Calculate the volume of the grain\n",
        "        grain_volume = self.calculate_grain_volume()\n",
        "\n",
        "        # Calculate the mass of the propellant\n",
        "        propellant_mass = grain_volume * self.grain_density\n",
        "\n",
        "        return propellant_mass\n",
        "\n",
        "    def calculate_grain_volume(self):\n",
        "        # Calculate the volume of the grain using cylindrical volume formula\n",
        "        outer_volume = self.calculate_cylinder_volume(self.grain_outer_radius, self.grain_length)\n",
        "        inner_volume = self.calculate_cylinder_volume(self.grain_inner_radius, self.grain_length)\n",
        "\n",
        "        grain_volume = outer_volume - inner_volume\n",
        "\n",
        "        return grain_volume\n",
        "\n",
        "    @staticmethod\n",
        "    def calculate_cylinder_volume(radius, height):\n",
        "        # Calculate the volume of a cylinder\n",
        "        volume = 3.141592653589793 * radius**2 * height\n",
        "        return volume\n",
        "\n",
        "\n",
        "def main():\n",
        "    # Example parameters\n",
        "    grain_density = 1700  # kg/m^3\n",
        "    grain_length = 0.2  # meters\n",
        "    grain_outer_radius = 0.05  # meters\n",
        "    grain_inner_radius = 0.02  # meters\n",
        "    burnout_time = 10  # seconds\n",
        "\n",
        "    # Create a SolidRocket instance\n",
        "    my_rocket = SolidRocket(grain_density, grain_length, grain_outer_radius, grain_inner_radius, burnout_time)\n",
        "\n",
        "    # Calculate the propellant mass\n",
        "    propellant_mass = my_rocket.calculate_propellant_mass()\n",
        "\n",
        "    print(f\"Propellant mass: {propellant_mass:.4f} kg\")\n",
        "\n",
        "\n",
        "if __name__ == \"__main__\":\n",
        "    main()\n"
      ],
      "metadata": {
        "colab": {
          "base_uri": "https://localhost:8080/"
        },
        "id": "kEn_EjspsjAC",
        "outputId": "0190f948-d7be-40cc-f980-6f02de1cc1e7"
      },
      "execution_count": 1,
      "outputs": [
        {
          "output_type": "stream",
          "name": "stdout",
          "text": [
            "Propellant mass: 2.2431 kg\n"
          ]
        }
      ]
    },
    {
      "cell_type": "markdown",
      "source": [
        "# Propellant density:\n",
        "\n",
        "The density of a solid rocket fuel grain involves considering the overall density of the propellant mixture. The density can be a combination of oxidizer and fuel components.This Project notebook assumes a binary propellant mixture with a given fraction of oxidizer."
      ],
      "metadata": {
        "id": "w1pQYO-zuLZs"
      }
    },
    {
      "cell_type": "code",
      "source": [
        "class SolidRocketFuel:\n",
        "    def __init__(self, oxidizer_density, fuel_density, oxidizer_fraction):\n",
        "        self.oxidizer_density = oxidizer_density  # density of the oxidizer in kg/m^3\n",
        "        self.fuel_density = fuel_density  # density of the fuel in kg/m^3\n",
        "        self.oxidizer_fraction = oxidizer_fraction  # fraction of the propellant that is oxidizer\n",
        "\n",
        "    def calculate_propellant_density(self):\n",
        "        # Calculate the overall density of the propellant mixture\n",
        "        propellant_density = (self.oxidizer_density * self.oxidizer_fraction +\n",
        "                              self.fuel_density * (1 - self.oxidizer_fraction))\n",
        "        return propellant_density\n",
        "\n",
        "\n",
        "def main():\n",
        "    # Example parameters\n",
        "    oxidizer_density = 1200  # kg/m^3\n",
        "    fuel_density = 800  # kg/m^3\n",
        "    oxidizer_fraction = 0.6  # fraction of the propellant that is oxidizer\n",
        "\n",
        "    # Create a SolidRocketFuel instance\n",
        "    my_fuel = SolidRocketFuel(oxidizer_density, fuel_density, oxidizer_fraction)\n",
        "\n",
        "    # Calculate the overall density of the propellant mixture\n",
        "    propellant_density = my_fuel.calculate_propellant_density()\n",
        "\n",
        "    print(f\"Propellant density: {propellant_density:.4f} kg/m^3\")\n",
        "\n",
        "\n",
        "if __name__ == \"__main__\":\n",
        "    main()\n"
      ],
      "metadata": {
        "colab": {
          "base_uri": "https://localhost:8080/"
        },
        "id": "PfOZCHsVugZ2",
        "outputId": "10eb06b8-5f42-4df9-85b5-efd06a55db4a"
      },
      "execution_count": 2,
      "outputs": [
        {
          "output_type": "stream",
          "name": "stdout",
          "text": [
            "Propellant density: 1040.0000 kg/m^3\n"
          ]
        }
      ]
    },
    {
      "cell_type": "markdown",
      "source": [
        "# Grain length\n",
        "\n",
        "The length of a solid rocket fuel grain is an important parameter and can be calculated based on factors like burn rate and burnout time. The specific details of this calculation depend on the burn rate characteristics of the propellant.In this python project, the grain length is calculated as the product of the burn rate and burnout time. This project assumes a constant burn rate throughout the burn time.\n",
        "\n"
      ],
      "metadata": {
        "id": "8M00RO8Fvbv4"
      }
    },
    {
      "cell_type": "code",
      "source": [
        "class SolidRocketFuelGrain:\n",
        "    def __init__(self, burnout_time, burn_rate):\n",
        "        self.burnout_time = burnout_time  # burnout time in seconds\n",
        "        self.burn_rate = burn_rate  # burn rate in meters per second\n",
        "\n",
        "    def calculate_grain_length(self):\n",
        "        # Calculate the grain length based on burn rate and burnout time\n",
        "        grain_length = self.burn_rate * self.burnout_time\n",
        "        return grain_length\n",
        "\n",
        "\n",
        "def main():\n",
        "    # Example parameters\n",
        "    burnout_time = 10  # seconds\n",
        "    burn_rate = 0.02  # meters per second\n",
        "\n",
        "    # Create a SolidRocketFuelGrain instance\n",
        "    my_grain = SolidRocketFuelGrain(burnout_time, burn_rate)\n",
        "\n",
        "    # Calculate the grain length\n",
        "    grain_length = my_grain.calculate_grain_length()\n",
        "\n",
        "    print(f\"Grain length: {grain_length:.4f} meters\")\n",
        "\n",
        "\n",
        "if __name__ == \"__main__\":\n",
        "    main()\n"
      ],
      "metadata": {
        "colab": {
          "base_uri": "https://localhost:8080/"
        },
        "id": "chruz70Ev5Kd",
        "outputId": "0d5c99af-84d0-4995-a927-41df0705cdac"
      },
      "execution_count": 3,
      "outputs": [
        {
          "output_type": "stream",
          "name": "stdout",
          "text": [
            "Grain length: 0.2000 meters\n"
          ]
        }
      ]
    },
    {
      "cell_type": "markdown",
      "source": [
        "# Outer radius\n",
        "\n",
        "The outer radius of a solid rocket fuel grain is a crucial parameter and can be influenced by factors like burn rate, burnout time, and the initial grain inner radius. In this project notebook the outer radius is calculated based on the burn rate and burnout time, assuming a constant burn rate as the sum of the initial inner radius and the product of burn rate and burnout time. This assumes a constant burn rate throughout the burn time."
      ],
      "metadata": {
        "id": "YG7e_jsNxtaf"
      }
    },
    {
      "cell_type": "code",
      "source": [
        "class SolidRocketFuelGrain:\n",
        "    def __init__(self, burnout_time, burn_rate, initial_inner_radius):\n",
        "        self.burnout_time = burnout_time  # burnout time in seconds\n",
        "        self.burn_rate = burn_rate  # burn rate in meters per second\n",
        "        self.initial_inner_radius = initial_inner_radius  # initial inner radius in meters\n",
        "\n",
        "    def calculate_outer_radius(self):\n",
        "        # Calculate the grain length based on burn rate and burnout time\n",
        "        grain_length = self.burn_rate * self.burnout_time\n",
        "\n",
        "        # Calculate the outer radius at burnout time\n",
        "        outer_radius_at_burnout = self.initial_inner_radius + grain_length\n",
        "\n",
        "        return outer_radius_at_burnout\n",
        "\n",
        "\n",
        "def main():\n",
        "    # Example parameters\n",
        "    burnout_time = 10  # seconds\n",
        "    burn_rate = 0.02  # meters per second\n",
        "    initial_inner_radius = 0.02  # meters\n",
        "\n",
        "    # Create a SolidRocketFuelGrain instance\n",
        "    my_grain = SolidRocketFuelGrain(burnout_time, burn_rate, initial_inner_radius)\n",
        "\n",
        "    # Calculate the outer radius at burnout time\n",
        "    outer_radius_at_burnout = my_grain.calculate_outer_radius()\n",
        "\n",
        "    print(f\"Outer radius at burnout: {outer_radius_at_burnout:.4f} meters\")\n",
        "\n",
        "\n",
        "if __name__ == \"__main__\":\n",
        "    main()\n"
      ],
      "metadata": {
        "colab": {
          "base_uri": "https://localhost:8080/"
        },
        "id": "pkK0q8ipyocB",
        "outputId": "d664fe09-52db-47fe-dc92-5712b0977693"
      },
      "execution_count": 4,
      "outputs": [
        {
          "output_type": "stream",
          "name": "stdout",
          "text": [
            "Outer radius at burnout: 0.2200 meters\n"
          ]
        }
      ]
    },
    {
      "cell_type": "markdown",
      "source": [
        "# Inner radius\n",
        "\n",
        "The inner radius of a solid rocket fuel grain is an important parameter and that can be influenced by factors like burn rate, burnout time, and the initial grain geometry. In our python notebook the inner radius is calculated based on the burn rate and burnout time, assuming a constant burn rate as the difference between the grain length (assumed based on burn rate and burnout time) and the product of burn rate and burnout time. This assumes a constant burn rate throughout the burn time."
      ],
      "metadata": {
        "id": "J_5siS3Mzp35"
      }
    },
    {
      "cell_type": "code",
      "source": [
        "class SolidRocketFuelGrain:\n",
        "    def __init__(self, burnout_time, burn_rate):\n",
        "        self.burnout_time = burnout_time  # burnout time in seconds\n",
        "        self.burn_rate = burn_rate  # burn rate in meters per second\n",
        "\n",
        "    def calculate_inner_radius(self, grain_length):\n",
        "        # Calculate the inner radius based on burn rate and grain length\n",
        "        inner_radius = grain_length - self.burn_rate * self.burnout_time\n",
        "        return inner_radius\n",
        "\n",
        "\n",
        "def main():\n",
        "    # Example parameters\n",
        "    burnout_time = 10  # seconds\n",
        "    burn_rate = 0.02  # meters per second\n",
        "\n",
        "    # Assume a grain length based on burn rate and burnout time (you can replace this with your own calculation)\n",
        "    grain_length = burn_rate * burnout_time\n",
        "\n",
        "    # Create a SolidRocketFuelGrain instance\n",
        "    my_grain = SolidRocketFuelGrain(burnout_time, burn_rate)\n",
        "\n",
        "    # Calculate the inner radius at burnout time\n",
        "    inner_radius_at_burnout = my_grain.calculate_inner_radius(grain_length)\n",
        "\n",
        "    print(f\"Inner radius at burnout: {inner_radius_at_burnout:.4f} meters\")\n",
        "\n",
        "\n",
        "if __name__ == \"__main__\":\n",
        "    main()\n"
      ],
      "metadata": {
        "colab": {
          "base_uri": "https://localhost:8080/"
        },
        "id": "AiJXKGFc0gKv",
        "outputId": "d146eb6b-9587-423d-d0ec-b4a89e0450ce"
      },
      "execution_count": 5,
      "outputs": [
        {
          "output_type": "stream",
          "name": "stdout",
          "text": [
            "Inner radius at burnout: 0.0000 meters\n"
          ]
        }
      ]
    },
    {
      "cell_type": "markdown",
      "source": [
        "# Burnout time\n",
        "\n",
        "The burnout time of a solid rocket fuel grain can be calculated based on factors like the initial grain geometry and the burn rate. In this project notebook the burnout time is calculated assuming a constant burn rate as the ratio of the initial grain length to the burn rate. This project assumes a constant burn rate throughout the burn time."
      ],
      "metadata": {
        "id": "v4_ySJ822eZH"
      }
    },
    {
      "cell_type": "code",
      "source": [
        "class SolidRocketFuelGrain:\n",
        "    def __init__(self, burn_rate, initial_inner_radius, initial_outer_radius):\n",
        "        self.burn_rate = burn_rate  # burn rate in meters per second\n",
        "        self.initial_inner_radius = initial_inner_radius  # initial inner radius in meters\n",
        "        self.initial_outer_radius = initial_outer_radius  # initial outer radius in meters\n",
        "\n",
        "    def calculate_burnout_time(self):\n",
        "        # Calculate the burnout time based on the initial grain geometry and burn rate\n",
        "        grain_length = self.initial_outer_radius - self.initial_inner_radius\n",
        "        burnout_time = grain_length / self.burn_rate\n",
        "        return burnout_time\n",
        "\n",
        "\n",
        "def main():\n",
        "    # Example parameters\n",
        "    burn_rate = 0.02  # meters per second\n",
        "    initial_inner_radius = 0.02  # meters\n",
        "    initial_outer_radius = 0.05  # meters\n",
        "\n",
        "    # Create a SolidRocketFuelGrain instance\n",
        "    my_grain = SolidRocketFuelGrain(burn_rate, initial_inner_radius, initial_outer_radius)\n",
        "\n",
        "    # Calculate the burnout time\n",
        "    burnout_time = my_grain.calculate_burnout_time()\n",
        "\n",
        "    print(f\"Burnout time: {burnout_time:.4f} seconds\")\n",
        "\n",
        "\n",
        "if __name__ == \"__main__\":\n",
        "    main()\n"
      ],
      "metadata": {
        "colab": {
          "base_uri": "https://localhost:8080/"
        },
        "id": "X6dpnEhJ3qco",
        "outputId": "1e988381-b114-4f27-f283-db23448a29de"
      },
      "execution_count": 6,
      "outputs": [
        {
          "output_type": "stream",
          "name": "stdout",
          "text": [
            "Burnout time: 1.5000 seconds\n"
          ]
        }
      ]
    },
    {
      "cell_type": "markdown",
      "source": [
        "# Initial Inner Radius and Initial Outer Radius\n",
        "\n",
        "The initial geometry of a solid rocket fuel grain typically involves specifying the initial inner and outer radii. Here we have calculated the initial grain geometry based on the desired grain length and the burn rate. The initial inner radius is assumed to be zero, and the initial outer radius is calculated as the sum of the initial inner radius and the desired grain length."
      ],
      "metadata": {
        "id": "MXHDukeQ4RR5"
      }
    },
    {
      "cell_type": "code",
      "source": [
        "class SolidRocketFuelGrain:\n",
        "    def __init__(self, burn_rate, desired_grain_length):\n",
        "        self.burn_rate = burn_rate  # burn rate in meters per second\n",
        "        self.desired_grain_length = desired_grain_length  # desired grain length in meters\n",
        "\n",
        "    def calculate_initial_geometry(self):\n",
        "        # Calculate the initial inner and outer radii based on the desired grain length and burn rate\n",
        "        initial_inner_radius = 0  # Assuming initial inner radius is zero\n",
        "        initial_outer_radius = initial_inner_radius + self.desired_grain_length\n",
        "\n",
        "        return initial_inner_radius, initial_outer_radius\n",
        "\n",
        "\n",
        "def main():\n",
        "    # Example parameters\n",
        "    burn_rate = 0.02  # meters per second\n",
        "    desired_grain_length = 0.2  # meters\n",
        "\n",
        "    # Create a SolidRocketFuelGrain instance\n",
        "    my_grain = SolidRocketFuelGrain(burn_rate, desired_grain_length)\n",
        "\n",
        "    # Calculate the initial grain geometry\n",
        "    initial_inner_radius, initial_outer_radius = my_grain.calculate_initial_geometry()\n",
        "\n",
        "    print(f\"Initial Inner Radius: {initial_inner_radius:.4f} meters\")\n",
        "    print(f\"Initial Outer Radius: {initial_outer_radius:.4f} meters\")\n",
        "\n",
        "\n",
        "if __name__ == \"__main__\":\n",
        "    main()\n"
      ],
      "metadata": {
        "colab": {
          "base_uri": "https://localhost:8080/"
        },
        "id": "heW3g08445Jc",
        "outputId": "132985b0-2f55-4290-f785-b618745d24eb"
      },
      "execution_count": 7,
      "outputs": [
        {
          "output_type": "stream",
          "name": "stdout",
          "text": [
            "Initial Inner Radius: 0.0000 meters\n",
            "Initial Outer Radius: 0.2000 meters\n"
          ]
        }
      ]
    },
    {
      "cell_type": "markdown",
      "source": [
        "# Burn rate\n",
        "\n",
        " The burn rate of a solid rocket fuel grain is a critical parameter that can be influenced by various factors such as pressure, temperature, and grain geometry. A common empirical model for burn rate is the Kn = a * P^n model, where Kn is the burn rate, P is the chamber pressure, and 'a' and 'n' are empirical constants. We adjust here the values of 'a', 'n', and 'chamber_pressure' according to our specific propellant characteristics and chamber conditions. We have considered that the burn rate may change over time as the grain geometry evolves during the burning process."
      ],
      "metadata": {
        "id": "Fkj8B7K7513y"
      }
    },
    {
      "cell_type": "code",
      "source": [
        "class SolidRocketFuelGrain:\n",
        "    def __init__(self, a, n, chamber_pressure):\n",
        "        self.a = a  # empirical constant\n",
        "        self.n = n  # empirical constant\n",
        "        self.chamber_pressure = chamber_pressure  # chamber pressure in Pascals\n",
        "\n",
        "    def calculate_burn_rate(self):\n",
        "        # Calculate burn rate using the Kn model: Kn = a * P^n\n",
        "        burn_rate = self.a * self.chamber_pressure**self.n\n",
        "        return burn_rate\n",
        "\n",
        "\n",
        "def main():\n",
        "    # Example parameters\n",
        "    a = 0.001  # empirical constant\n",
        "    n = 0.5    # empirical constant\n",
        "    chamber_pressure = 1000000  # chamber pressure in Pascals\n",
        "\n",
        "    # Create a SolidRocketFuelGrain instance\n",
        "    my_grain = SolidRocketFuelGrain(a, n, chamber_pressure)\n",
        "\n",
        "    # Calculate the burn rate\n",
        "    burn_rate = my_grain.calculate_burn_rate()\n",
        "\n",
        "    print(f\"Burn rate: {burn_rate:.4f} meters per second\")\n",
        "\n",
        "\n",
        "if __name__ == \"__main__\":\n",
        "    main()\n"
      ],
      "metadata": {
        "colab": {
          "base_uri": "https://localhost:8080/"
        },
        "id": "dmnzgFDO6jXd",
        "outputId": "ab48be8d-9c8a-4721-848e-007093e7f9f3"
      },
      "execution_count": 8,
      "outputs": [
        {
          "output_type": "stream",
          "name": "stdout",
          "text": [
            "Burn rate: 1.0000 meters per second\n"
          ]
        }
      ]
    }
  ]
}